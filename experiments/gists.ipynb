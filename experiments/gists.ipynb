{
 "cells": [
  {
   "cell_type": "code",
   "execution_count": 1,
   "metadata": {},
   "outputs": [],
   "source": [
    "from typing import Optional\n",
    "from collections import namedtuple"
   ]
  },
  {
   "cell_type": "code",
   "execution_count": 2,
   "metadata": {},
   "outputs": [],
   "source": [
    "UserProfile = namedtuple('UserProfile', ['platform', 'user_id', 'password'])\n",
    "UserProfiles = set[UserProfile]"
   ]
  },
  {
   "cell_type": "code",
   "execution_count": 3,
   "metadata": {},
   "outputs": [],
   "source": [
    "_user_profiles = UserProfiles()\n",
    "def _load_user_profiles() -> None:\n",
    "    _user_profiles.add(UserProfile(platform=\"a\", user_id=\"b\", password=\"c\"))\n",
    "    _user_profiles.add(UserProfile(platform=\"a\", user_id=\"c\", password=\"k\"))\n",
    "    return\n",
    "_load_user_profiles()"
   ]
  },
  {
   "cell_type": "code",
   "execution_count": 4,
   "metadata": {},
   "outputs": [],
   "source": [
    "def search_user_profile(platform: Optional[str], user_id: Optional[str]) -> Optional[UserProfiles | UserProfile]:\n",
    "    search_match = UserProfiles(filter(\n",
    "        lambda k: k.platform == platform or k.user_id == user_id,\n",
    "        _user_profiles\n",
    "    ))\n",
    "\n",
    "    search_result = None\n",
    "    match search_match.__len__():\n",
    "        case 0: search_result = None\n",
    "        case 1: search_result = next(iter(search_match))\n",
    "        case _: search_result = search_match\n",
    "    return search_result\n"
   ]
  },
  {
   "cell_type": "code",
   "execution_count": 5,
   "metadata": {},
   "outputs": [],
   "source": [
    "search_user_profile(None, None)"
   ]
  },
  {
   "cell_type": "code",
   "execution_count": 6,
   "metadata": {},
   "outputs": [
    {
     "data": {
      "text/plain": [
       "{UserProfile(platform='a', user_id='b', password='c'),\n",
       " UserProfile(platform='a', user_id='c', password='k')}"
      ]
     },
     "execution_count": 6,
     "metadata": {},
     "output_type": "execute_result"
    }
   ],
   "source": [
    "search_user_profile(platform = 'a', user_id = 'b')"
   ]
  },
  {
   "cell_type": "code",
   "execution_count": 7,
   "metadata": {},
   "outputs": [
    {
     "data": {
      "text/plain": [
       "{UserProfile(platform='a', user_id='b', password='c'),\n",
       " UserProfile(platform='a', user_id='c', password='k')}"
      ]
     },
     "execution_count": 7,
     "metadata": {},
     "output_type": "execute_result"
    }
   ],
   "source": [
    "search_user_profile(platform = 'a', user_id = 'z')"
   ]
  },
  {
   "cell_type": "code",
   "execution_count": 8,
   "metadata": {},
   "outputs": [
    {
     "data": {
      "text/plain": [
       "UserProfile(platform='a', user_id='b', password='c')"
      ]
     },
     "execution_count": 8,
     "metadata": {},
     "output_type": "execute_result"
    }
   ],
   "source": [
    "search_user_profile(platform = 'z', user_id = 'b')"
   ]
  },
  {
   "cell_type": "code",
   "execution_count": 9,
   "metadata": {},
   "outputs": [],
   "source": [
    "search_user_profile(platform = 'k', user_id = 'w')"
   ]
  },
  {
   "cell_type": "code",
   "execution_count": null,
   "metadata": {},
   "outputs": [],
   "source": []
  }
 ],
 "metadata": {
  "kernelspec": {
   "display_name": "env-optionsbot",
   "language": "python",
   "name": "python3"
  },
  "language_info": {
   "codemirror_mode": {
    "name": "ipython",
    "version": 3
   },
   "file_extension": ".py",
   "mimetype": "text/x-python",
   "name": "python",
   "nbconvert_exporter": "python",
   "pygments_lexer": "ipython3",
   "version": "3.12.0"
  }
 },
 "nbformat": 4,
 "nbformat_minor": 2
}
