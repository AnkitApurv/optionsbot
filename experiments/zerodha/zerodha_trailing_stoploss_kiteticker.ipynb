{
 "cells": [
  {
   "cell_type": "code",
   "execution_count": 1,
   "metadata": {},
   "outputs": [],
   "source": [
    "from kiteconnect import KiteConnect, KiteTicker\n",
    "import logging"
   ]
  },
  {
   "cell_type": "code",
   "execution_count": null,
   "metadata": {},
   "outputs": [],
   "source": [
    "# Configure logger\n",
    "logging.basicConfig(level=logging.DEBUG)"
   ]
  },
  {
   "cell_type": "code",
   "execution_count": null,
   "metadata": {},
   "outputs": [],
   "source": [
    "# KiteConnect credentials\n",
    "api_key = \"YOUR_API_KEY\"\n",
    "access_token = \"YOUR_ACCESS_TOKEN\"\n",
    "\n",
    "# Initialize KiteConnect\n",
    "kite = KiteConnect(api_key=api_key)\n",
    "kite.set_access_token(access_token)\n",
    "\n",
    "# Initialize KiteTicker\n",
    "kite_ticker = KiteTicker(api_key, kite.ltp)"
   ]
  },
  {
   "cell_type": "code",
   "execution_count": null,
   "metadata": {},
   "outputs": [],
   "source": [
    "# Trailing stop-loss parameters\n",
    "trailing_stop_loss_percent = 0.5  # trailing stop-loss percentage\n",
    "stop_loss_triggered = False\n",
    "\n",
    "# Function to calculate trailing stop-loss\n",
    "def calculate_trailing_stop_loss(trigger_price, current_price):\n",
    "    return trigger_price * (1 - trailing_stop_loss_percent / 100)"
   ]
  },
  {
   "cell_type": "code",
   "execution_count": null,
   "metadata": {},
   "outputs": [],
   "source": [
    "# Function to handle KiteTicker on_ticks event\n",
    "def on_ticks(ticks):\n",
    "    global stop_loss_triggered\n",
    "\n",
    "    # Get the current instrument price\n",
    "    current_price = ticks[0][\"last_price\"]\n",
    "\n",
    "    # Check if stop loss is triggered\n",
    "    if stop_loss_triggered:\n",
    "        # Close the trade\n",
    "        print(\"Stop loss triggered. Closing the trade...\")\n",
    "        # Place your code to close the trade using KiteConnect's API\n",
    "\n",
    "        # Unsubscribe from ticker updates\n",
    "        kite_ticker.unsubscribe([instrument_token])\n",
    "        return\n",
    "\n",
    "    # Check if the current price is below the trailing stop-loss trigger price\n",
    "    if current_price <= trailing_stop_loss_trigger:\n",
    "        stop_loss_triggered = True\n",
    "        print(\"Trailing stop-loss triggered at price:\", current_price)"
   ]
  },
  {
   "cell_type": "code",
   "execution_count": null,
   "metadata": {},
   "outputs": [],
   "source": [
    "# Function to handle KiteTicker on_connect event\n",
    "def on_connect(response):\n",
    "    # Subscribe to instrument tickers\n",
    "    global instrument_token, trailing_stop_loss_trigger\n",
    "\n",
    "    # Example option instrument token\n",
    "    instrument_token = 12345678\n",
    "\n",
    "    # Get the instrument details\n",
    "    instrument_info = kite.ltp([\"NSE:\" + str(instrument_token)])\n",
    "    instrument_price = instrument_info[\"NSE:\" + str(instrument_token)][\"last_price\"]\n",
    "\n",
    "    # Calculate trailing stop-loss trigger price\n",
    "    trailing_stop_loss_trigger = calculate_trailing_stop_loss(instrument_price, instrument_price)\n",
    "    print(\"Trailing stop-loss trigger price:\", trailing_stop_loss_trigger)\n",
    "\n",
    "    # Subscribe to the instrument ticker\n",
    "    kite_ticker.subscribe([instrument_token])"
   ]
  },
  {
   "cell_type": "code",
   "execution_count": null,
   "metadata": {},
   "outputs": [],
   "source": [
    "# Function to handle KiteTicker on_close event\n",
    "def on_close(code, reason):\n",
    "    print(\"KiteTicker connection closed:\", code, reason)"
   ]
  },
  {
   "cell_type": "code",
   "execution_count": null,
   "metadata": {},
   "outputs": [],
   "source": [
    "# Function to handle KiteTicker on_error event\n",
    "def on_error(code, reason):\n",
    "    print(\"KiteTicker connection error:\", code, reason)"
   ]
  },
  {
   "cell_type": "code",
   "execution_count": null,
   "metadata": {},
   "outputs": [],
   "source": [
    "# Configure KiteTicker event handlers\n",
    "kite_ticker.on_ticks = on_ticks\n",
    "kite_ticker.on_connect = on_connect\n",
    "kite_ticker.on_close = on_close\n",
    "kite_ticker.on_error = on_error"
   ]
  },
  {
   "cell_type": "code",
   "execution_count": null,
   "metadata": {},
   "outputs": [],
   "source": [
    "# Establish KiteTicker connection\n",
    "kite_ticker.connect(threaded=True)"
   ]
  }
 ],
 "metadata": {
  "kernelspec": {
   "display_name": "env-zerodha",
   "language": "python",
   "name": "python3"
  },
  "language_info": {
   "codemirror_mode": {
    "name": "ipython",
    "version": 3
   },
   "file_extension": ".py",
   "mimetype": "text/x-python",
   "name": "python",
   "nbconvert_exporter": "python",
   "pygments_lexer": "ipython3",
   "version": "3.11.3"
  },
  "orig_nbformat": 4
 },
 "nbformat": 4,
 "nbformat_minor": 2
}
